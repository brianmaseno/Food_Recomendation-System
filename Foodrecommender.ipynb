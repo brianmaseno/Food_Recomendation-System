{
 "cells": [
  {
   "cell_type": "markdown",
   "metadata": {
    "id": "liC7q5uIsdBn"
   },
   "source": [
    "# Connect to Drive"
   ]
  },
  {
   "cell_type": "code",
   "execution_count": 1,
   "metadata": {
    "colab": {
     "base_uri": "https://localhost:8080/"
    },
    "id": "u_F_pUvXHFpP",
    "outputId": "bd14fb8d-0489-4c9f-900d-35f80bac9466"
   },
   "outputs": [
    {
     "name": "stdout",
     "output_type": "stream",
     "text": [
      "Mounted at /content/drive\n"
     ]
    }
   ],
   "source": [
    "from google.colab import drive\n",
    "drive.mount('/content/drive')"
   ]
  },
  {
   "cell_type": "code",
   "execution_count": 2,
   "metadata": {
    "id": "rOZTyuT_YVN9"
   },
   "outputs": [],
   "source": [
    "import matplotlib.pyplot as plt\n",
    "import numpy as np\n",
    "import pandas as pd\n"
   ]
  },
  {
   "cell_type": "markdown",
   "metadata": {
    "id": "-Wp5bjfgsukT"
   },
   "source": [
    "# Load CSV File"
   ]
  },
  {
   "cell_type": "code",
   "execution_count": null,
   "metadata": {
    "colab": {
     "base_uri": "https://localhost:8080/",
     "height": 206
    },
    "id": "aHl2uG9rHfBv",
    "outputId": "cf6ea6ae-8785-49c9-ce36-066fe326fd34"
   },
   "outputs": [],
   "source": [
    "import pandas as pd\n",
    "import matplotlib.pyplot as plt\n",
    "import numpy as np\n",
    "\n",
    "#path='/content/drive/My Drive/Colab Notebooks/indianFood.csv'\n",
    "\n",
    "#df=pd.read_csv(path)\n",
    "df=pd.read_csv(r\"indianFood.csv\")\n",
    "df.head()\n",
    "df"
   ]
  },
  {
   "cell_type": "code",
   "execution_count": null,
   "metadata": {
    "colab": {
     "base_uri": "https://localhost:8080/",
     "height": 206
    },
    "id": "-kmNqWIIHn41",
    "outputId": "a7a9d14f-e86d-411f-873f-3488bf81b7ea"
   },
   "outputs": [],
   "source": [
    "data=df\n",
    "data.head()\n",
    "df"
   ]
  },
  {
   "cell_type": "markdown",
   "metadata": {
    "id": "dXWSyiS2s5rU"
   },
   "source": [
    "\n",
    "\n",
    "\n",
    "\n",
    "# Create Overview"
   ]
  },
  {
   "cell_type": "code",
   "execution_count": null,
   "metadata": {
    "colab": {
     "base_uri": "https://localhost:8080/",
     "height": 423
    },
    "id": "oDYvEM46W-yS",
    "outputId": "a9af7622-5c44-46e3-c3ca-f05b1127f3fe"
   },
   "outputs": [],
   "source": [
    "import pandas as pd\n",
    "def join_columns(X):\n",
    "    separator = ','\n",
    "    col_name = 'Overview'\n",
    "    for i, c in enumerate(X.columns):\n",
    "        if i == 0:\n",
    "            X_out = X[c].astype(str).copy()\n",
    "        else:\n",
    "            X_out += separator + X[c].astype(str)\n",
    "    return X_out.to_frame(name=col_name)\n",
    "d1=data.drop(\"name\",axis=1)\n",
    "data['Overview']=join_columns(d1)\n",
    "data"
   ]
  },
  {
   "cell_type": "code",
   "execution_count": null,
   "metadata": {
    "id": "_QVTFFDGW-tI"
   },
   "outputs": [],
   "source": [
    "import numpy as np\n",
    "import pandas as pd\n",
    "from sklearn.metrics.pairwise import cosine_similarity\n",
    "from sklearn.metrics import mean_squared_error\n",
    "from sklearn.model_selection import train_test_split\n",
    "from sklearn.feature_extraction.text import TfidfVectorizer\n",
    "from sklearn.metrics.pairwise import linear_kernel"
   ]
  },
  {
   "cell_type": "code",
   "execution_count": null,
   "metadata": {
    "colab": {
     "base_uri": "https://localhost:8080/"
    },
    "id": "DC7qE8hiW-hw",
    "outputId": "8d619a6d-7fb4-4884-ab94-97b68f9deac1"
   },
   "outputs": [],
   "source": [
    "tfidf = TfidfVectorizer(stop_words='english')\n",
    "data['Overview'] = data['Overview'].fillna('')\n",
    "#Construct the required TF-IDF matrix by applying the fit_transform method on the overview feature\n",
    "overview_matrix = tfidf.fit_transform(data['Overview'])\n",
    "#Output the shape of tfidf_matrix\n",
    "overview_matrix.shape\n"
   ]
  },
  {
   "cell_type": "code",
   "execution_count": null,
   "metadata": {
    "colab": {
     "base_uri": "https://localhost:8080/"
    },
    "id": "yHLjbiMvZxwv",
    "outputId": "0e1e9c06-cc69-4b2c-e8ec-2b7e0aa9d9c6"
   },
   "outputs": [],
   "source": [
    "similarity_matrix = linear_kernel(overview_matrix,overview_matrix)\n",
    "similarity_matrix"
   ]
  },
  {
   "cell_type": "code",
   "execution_count": null,
   "metadata": {
    "colab": {
     "base_uri": "https://localhost:8080/"
    },
    "id": "2_5_D6Q0ZxtW",
    "outputId": "a4795b31-6bac-4693-fc81-effd92d8fd99"
   },
   "outputs": [],
   "source": [
    "mappingName = pd.Series(data.index,index = data['name'])\n",
    "mappingName"
   ]
  },
  {
   "cell_type": "code",
   "execution_count": null,
   "metadata": {
    "id": "k1i0ka2eZxqU"
   },
   "outputs": [],
   "source": [
    "def recommend_food_based_on_plot(data_input):\n",
    "  if(data_input==''):\n",
    "    return df\n",
    "  data_index = mappingName[data_input]\n",
    "  #get similarity values with other foods\n",
    "  #similarity_score is the list of index and similarity matrix\n",
    "  similarity_score = list(enumerate(similarity_matrix[data_index]))\n",
    "  #sort in descending order the similarity score of food inputted with all the other foods\n",
    "  similarity_score = sorted(similarity_score, key=lambda x: x[1], reverse=True)\n",
    "  # Get the scores of the 15 most similar foods. Ignore the first food.\n",
    "  similarity_score = similarity_score[1:15]\n",
    "  #return food names using the mapping series\n",
    "  data_indices = [i[0] for i in similarity_score]\n",
    "  return (data.iloc[data_indices])"
   ]
  },
  {
   "cell_type": "code",
   "execution_count": null,
   "metadata": {
    "colab": {
     "base_uri": "https://localhost:8080/",
     "height": 507
    },
    "id": "A04qPiRZZ_Lv",
    "outputId": "28a5c18f-f7d4-4d27-e300-59572779d1d4"
   },
   "outputs": [
    {
     "name": "stdout",
     "output_type": "stream",
     "text": [
      "Enter the food: rice\n"
     ]
    }
   ],
   "source": [
    "food = input('Enter the food: ')\n",
    "flavor_profile = input('Enter the Flavor Profile: ')\n",
    "diet = input('Enter the diet: ')\n",
    "course = input('Enter the course: ')\n",
    "res=recommend_food_based_on_plot(data_input=food)\n",
    "if(diet!=''):\n",
    "  res = res[res['diet'] == diet]\n",
    "if(flavor_profile !=''):\n",
    "  res = res[res['flavor_profile'] == flavor_profile]\n",
    "if(course!=''):\n",
    "  res = res[res['course'] == course]\n",
    "res\n"
   ]
  },
  {
   "cell_type": "code",
   "execution_count": null,
   "metadata": {},
   "outputs": [],
   "source": []
  }
 ],
 "metadata": {
  "colab": {
   "provenance": []
  },
  "kernelspec": {
   "display_name": "Python 3 (ipykernel)",
   "language": "python",
   "name": "python3"
  },
  "language_info": {
   "codemirror_mode": {
    "name": "ipython",
    "version": 3
   },
   "file_extension": ".py",
   "mimetype": "text/x-python",
   "name": "python",
   "nbconvert_exporter": "python",
   "pygments_lexer": "ipython3",
   "version": "3.11.5"
  }
 },
 "nbformat": 4,
 "nbformat_minor": 1
}
